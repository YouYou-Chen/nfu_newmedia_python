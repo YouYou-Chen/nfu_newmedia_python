{
 "cells": [
  {
   "cell_type": "code",
   "execution_count": null,
   "metadata": {
    "collapsed": true
   },
   "outputs": [],
   "source": [
    "#append是一行一行加的\n",
    "import csv\n",
    "with open ('data\\WEOApr2017all.xls',encoding='ISO-8859-1') as fp:\n",
    "    data=[]\n",
    "    for row in csv.reader(fp,delimiter ='\\t'):\n",
    "        data.append(row)\n",
    "data"
   ]
  },
  {
   "cell_type": "code",
   "execution_count": null,
   "metadata": {
    "collapsed": true
   },
   "outputs": [],
   "source": [
    "#靖茵的专案，pick的\n",
    "# -*- coding: utf-8 -*- \n",
    "# 使用模块moduld classtime\n",
    "\n",
    "\n",
    "from flask import Flask, render_template, request, escape\n",
    "\n",
    "app = Flask(__name__)\n",
    "\n",
    "@app.route('/')\n",
    "@app.route('/entry')\n",
    "\n",
    "def entry_page() -> 'html':\n",
    "    \"\"\"Display this webapp's HTML form.\"\"\"\n",
    "    return render_template('entry.html',\n",
    "                           the_title='欢迎来到网上查找中山大学南方学院艺创系与文传系课程情况！')\n",
    "\n",
    "\n",
    "@app.route('/pick_a_schedule', methods=['POST'])\n",
    "def pick_a_color() -> 'html':\n",
    "\tuser_classtime_yuanxi= request.form['user_yuanxi']\n",
    "\tuser_classtime_subject= request.form['user_subject']\n",
    "\tuser_classtime_user_class= request.form['user_class']\t\n",
    "\twith open('cleaned_data.tsv', 'r', encoding='utf8') as class_data:\n",
    "\t\tline = class_data.readlines()\n",
    "\twant_xy=[i for i in line if user_classtime_yuanxi in i]\n",
    "\twant_zy=[i for i in want_xy if user_classtime_subject in i]\n",
    "\twant_class=[i for i in want_zy if user_classtime_user_class in i]\n",
    "\tresult_class=[]\n",
    "\tfor i in range(len(set(want_class))):\n",
    "\t\tu=str(i+1)\n",
    "\t\tkechen=want_class[i].split('\\t')[6]\n",
    "\t\ttime_min=want_class[i].split('\\t')[4]\n",
    "\t\ttime_max=want_class[i].split('\\t')[5]\n",
    "\t\txuefen=want_class[i].split('\\t')[8]\n",
    "\t\tzhoushi=want_class[i].split('\\t')[9]\n",
    "\t\tqizhizhou=want_class[i].split('\\t')[10]\n",
    "\t\tqizhizhou_divide=qizhizhou.split('-')\n",
    "\t\tqizhizhou_divide_1=qizhizhou_divide[0]\n",
    "\t\tqizhizhou_divide_2=qizhizhou_divide[1]\n",
    "\t\tjieguo='你筛选的课第'+u+'个有“'+kechen+'”，它从第'+qizhizhou_divide_1+'周开始到第'+qizhizhou_divide_2+'周结束，一周需要'+zhoushi+'个学时，共计'+xuefen+'个学分，人数下限为'+time_min+'人和上限为'+time_max+'人'\n",
    "\t\tresult_class.append(jieguo)\n",
    "\t\tresult_class=sorted(result_class)\n",
    "\t\tresult_class_1=set(result_class)\n",
    "\t\t\n",
    "\treturn render_template('results.html',\n",
    "\t\t\t\t\t\t\tthe_title = '以下是您筛选后的课程：',\n",
    "\t\t\t\t\t\t\tthe_classtime_code = result_class_1,\n",
    "\t\t\t\t\t\t\tthe_classtime_yx_code =user_classtime_yuanxi,\n",
    "\t\t\t\t\t\t\tthe_classtime_zy_code =user_classtime_subject,\n",
    "\t\t\t\t\t\t\tthe_classtime_kc_code=user_classtime_user_class,\n",
    "\t\t\t\t\t\t\t)\n",
    "\n",
    "if __name__ == '__main__':\n",
    "    app.run(debug=True)\n"
   ]
  },
  {
   "cell_type": "code",
   "execution_count": null,
   "metadata": {
    "collapsed": true
   },
   "outputs": [],
   "source": [
    "过滤出元素里面含有country\n",
    "[x for x in data[0] if 'country' in x]\n",
    "#data[0]数据标题\n",
    "data[0].index('country')\n",
    "#去掉最后三行\n",
    "data[-2:]\n",
    "data =  data[0:-2]\n",
    "#过滤出元素里含有‘country’并找出各种索引值\n",
    "[x for x in data[0] if 'country' in x]#没有写完整\n",
    "#确保dataframe中的空格用_取代\n",
    "[x.replace (' ','.') for x in df.colums]\n",
    "#生成数字1980-2022\n",
    "list(range(1980,2022+1))\n",
    "#产生字符串\n",
    "[str(x)xfor x in list(range(1980,2022+1))]\n",
    "china[str(x)xfor x in list(range(1980,2022+1))]\n",
    "china[['country']+str(x)xfor x in list(range(1980,2022+1))]\n",
    "#panada直接画图\n",
    "plot()#还没写完整\n",
    "#所有国家\n",
    "print(set(def['country']))\n",
    "#做字典\n",
    "df[['ISO','country']].drop_duplicates().set_index('ISO').to_dict()['country']"
   ]
  }
 ],
 "metadata": {
  "kernelspec": {
   "display_name": "Python 3",
   "language": "python",
   "name": "python3"
  },
  "language_info": {
   "codemirror_mode": {
    "name": "ipython",
    "version": 3
   },
   "file_extension": ".py",
   "mimetype": "text/x-python",
   "name": "python",
   "nbconvert_exporter": "python",
   "pygments_lexer": "ipython3",
   "version": "3.6.0"
  }
 },
 "nbformat": 4,
 "nbformat_minor": 2
}
