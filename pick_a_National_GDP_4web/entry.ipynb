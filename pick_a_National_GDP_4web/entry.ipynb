{
 "cells": [
  {
   "cell_type": "code",
   "execution_count": 2,
   "metadata": {
    "collapsed": false
   },
   "outputs": [],
   "source": [
    "#下面的是entry"
   ]
  },
  {
   "cell_type": "code",
   "execution_count": null,
   "metadata": {
    "collapsed": true
   },
   "outputs": [],
   "source": [
    "{% extends 'base.html' %}\n",
    "\n",
    "{% block body %}\n",
    "\n",
    "<h2>{{ the_title }}</h3>\n",
    "\n",
    "<form method='POST' action='/pick_a_National_GDP'>#pick_a_National_GDP这个是要求我们最后得到页面的文件吗？\n",
    "<table>\n",
    "<tr><td>请选取国家简称: </td><td>\n",
    "  <select name='user_ISO'>           \n",
    "  {% for item in the_list_items %}\n",
    "     <option value=\"{{item}}\">{{item}}</option>\n",
    "  {% endfor %}\n",
    "  </select>\n",
    "  <tr><td>请选取指标: </td><td>  \n",
    "  <select name='user_WEO Subject Code'>           \n",
    "    <option value=\"PPPPC\">PPPPC</option>\n",
    "    <option value=\"PPPGDP\">PPPGDP</option>\n",
    "  </select>\n",
    "</td></tr>\n",
    "</table>\n",
    "<p>准备就绪后,请单击此按钮：</p>\n",
    "<p><input value='OK！' type='SUBMIT'></p>\n",
    "</form>\n",
    "\n",
    "{% endblock %}"
   ]
  },
  {
   "cell_type": "code",
   "execution_count": null,
   "metadata": {
    "collapsed": true
   },
   "outputs": [],
   "source": [
    "#下面的是result"
   ]
  },
  {
   "cell_type": "code",
   "execution_count": null,
   "metadata": {
    "collapsed": true
   },
   "outputs": [],
   "source": [
    "{% extends 'base.html' %}\n",
    "\n",
    "{% block body %}\n",
    "\n",
    "<h2>{{ the_title }}</h3>\n",
    "\n",
    "<p>经过筛选后</p>\n",
    "<table>\n",
    "<tr><td>你查找的国家简称是：</td><td>{{ the_National_GDP_ISO_code }}</td></tr>\n",
    "<tr><td>你查找的指标是：</td><td>{{ the_National_GDP_WEO Subject Code_code }}</td></tr>\n",
    "<tr><td>筛选后的结果是：</td><td>{{ the_National_GDP_code }}</td></tr>#最后这里的筛选结果怎么做\n",
    "</table>\n",
    "\n",
    "{% endblock %}\n",
    "#<tr><td>你查找的院系是：</td><td>{{ the_classtime_yx_code }}</td></tr>classtime指的是数据文件名还是什么？"
   ]
  },
  {
   "cell_type": "code",
   "execution_count": null,
   "metadata": {
    "collapsed": true
   },
   "outputs": [],
   "source": [
    "#下面是pick的最终文件"
   ]
  },
  {
   "cell_type": "code",
   "execution_count": null,
   "metadata": {
    "collapsed": true
   },
   "outputs": [],
   "source": [
    "# -*- coding: utf-8 -*- \n",
    "# 使用模块moduld classtime\n",
    "\n",
    "\n",
    "from flask import Flask, render_template, request, escape\n",
    "\n",
    "app = Flask(__name__)\n",
    "\n",
    "@app.route('/')\n",
    "@app.route('/entry')\n",
    "\n",
    "def entry_page() -> 'html':\n",
    "    \"\"\"Display this webapp's HTML form.\"\"\"\n",
    "    return render_template('entry.html',\n",
    "                           the_title='欢迎来到网上查找世界各个国家的GDP情况！')\n",
    "\n",
    "\n",
    "@app.route('/pick_a_schedule', methods=['POST'])\n",
    "def pick_a_color() -> 'html':\n",
    "\tuser_classtime_yuanxi= request.form['user_yuanxi']\n",
    "\tuser_classtime_subject= request.form['user_subject']\n",
    "\tuser_classtime_user_class= request.form['user_class']\t\n",
    "\twith open('cleaned_data.tsv', 'r', encoding='utf8') as class_data:\n",
    "\t\tline = class_data.readlines()\n",
    "\twant_xy=[i for i in line if user_classtime_yuanxi in i]\n",
    "\twant_zy=[i for i in want_xy if user_classtime_subject in i]\n",
    "\twant_class=[i for i in want_zy if user_classtime_user_class in i]\n",
    "\tresult_class=[]\n",
    "\tfor i in range(len(set(want_class))):\n",
    "\t\tu=str(i+1)\n",
    "\t\tkechen=want_class[i].split('\\t')[6]\n",
    "\t\ttime_min=want_class[i].split('\\t')[4]\n",
    "\t\ttime_max=want_class[i].split('\\t')[5]\n",
    "\t\txuefen=want_class[i].split('\\t')[8]\n",
    "\t\tzhoushi=want_class[i].split('\\t')[9]\n",
    "\t\tqizhizhou=want_class[i].split('\\t')[10]\n",
    "\t\tqizhizhou_divide=qizhizhou.split('-')\n",
    "\t\tqizhizhou_divide_1=qizhizhou_divide[0]\n",
    "\t\tqizhizhou_divide_2=qizhizhou_divide[1]\n",
    "\t\tjieguo='你筛选的课第'+u+'个有“'+kechen+'”，它从第'+qizhizhou_divide_1+'周开始到第'+qizhizhou_divide_2+'周结束，一周需要'+zhoushi+'个学时，共计'+xuefen+'个学分，人数下限为'+time_min+'人和上限为'+time_max+'人'\n",
    "\t\tresult_class.append(jieguo)\n",
    "\t\tresult_class=sorted(result_class)\n",
    "\t\tresult_class_1=set(result_class)\n",
    "\t\t\n",
    "\treturn render_template('results.html',\n",
    "\t\t\t\t\t\t\tthe_title = '以下是您筛选后的结果：',\n",
    "\t\t\t\t\t\t\tthe_classtime_code = result_class_1,\n",
    "\t\t\t\t\t\t\tthe_classtime_yx_code =user_classtime_yuanxi,\n",
    "\t\t\t\t\t\t\tthe_classtime_zy_code =user_classtime_subject,\n",
    "\t\t\t\t\t\t\tthe_classtime_kc_code=user_classtime_user_class,\n",
    "\t\t\t\t\t\t\t)\n",
    "\n",
    "if __name__ == '__main__':\n",
    "    app.run(debug=True)\n"
   ]
  }
 ],
 "metadata": {
  "kernelspec": {
   "display_name": "Python 3",
   "language": "python",
   "name": "python3"
  },
  "language_info": {
   "codemirror_mode": {
    "name": "ipython",
    "version": 3
   },
   "file_extension": ".py",
   "mimetype": "text/x-python",
   "name": "python",
   "nbconvert_exporter": "python",
   "pygments_lexer": "ipython3",
   "version": "3.6.0"
  }
 },
 "nbformat": 4,
 "nbformat_minor": 2
}
